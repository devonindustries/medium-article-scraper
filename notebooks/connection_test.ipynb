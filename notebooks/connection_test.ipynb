{
 "cells": [
  {
   "cell_type": "code",
   "execution_count": 1,
   "id": "3ca791e5-0c2f-40a4-af63-2cf65d04141e",
   "metadata": {},
   "outputs": [],
   "source": [
    "import os\n",
    "import sys\n",
    "\n",
    "# Get the absolute path of the backend folder\n",
    "backend_path = os.path.abspath(os.path.join(os.getcwd(), \"..\", \"backend\"))\n",
    "\n",
    "# Add backend to sys.path\n",
    "if backend_path not in sys.path:\n",
    "    sys.path.append(backend_path)"
   ]
  },
  {
   "cell_type": "code",
   "execution_count": 43,
   "id": "93d20ffd-36c1-4c69-8d3b-2fbcb8f75af4",
   "metadata": {},
   "outputs": [],
   "source": [
    "# MAIN IMPORTS\n",
    "import uuid\n",
    "import json\n",
    "import nest_asyncio\n",
    "\n",
    "import pandas as pd\n",
    "\n",
    "from pyspark.sql import SparkSession\n",
    "from pyspark.sql.types import StructType, StructField, StringType, IntegerType, BooleanType, TimestampType\n",
    "from pyspark.sql.functions import col\n",
    "\n",
    "from scripts.scraper import scrape_medium\n",
    "\n",
    "nest_asyncio.apply()"
   ]
  },
  {
   "cell_type": "code",
   "execution_count": 18,
   "id": "0452f1ae-a9a7-4b4e-ac60-f7c7f6245ba5",
   "metadata": {},
   "outputs": [
    {
     "name": "stdout",
     "output_type": "stream",
     "text": [
      "Spark session successfully started and connected to ClickHouse!\n"
     ]
    }
   ],
   "source": [
    "# Create a Spark session with ClickHouse JDBC\n",
    "spark = SparkSession.builder \\\n",
    "    .appName(\"ClickHouse-Spark\") \\\n",
    "    .config(\"spark.driver.extraClassPath\", \"/opt/spark/jars/*\") \\\n",
    "    .config(\"spark.executor.extraClassPath\", \"/opt/spark/jars/*\") \\\n",
    "    .getOrCreate()\n",
    "\n",
    "# ClickHouse connection details\n",
    "CLICKHOUSE_URL = \"jdbc:clickhouse://clickhouse:8123/medium\"\n",
    "CLICKHOUSE_DRIVER = \"com.clickhouse.jdbc.ClickHouseDriver\"\n",
    "\n",
    "print(\"Spark session successfully started and connected to ClickHouse!\")"
   ]
  },
  {
   "cell_type": "code",
   "execution_count": 19,
   "id": "baf03fae-18cb-4027-a900-acb9e89236ac",
   "metadata": {},
   "outputs": [
    {
     "name": "stdout",
     "output_type": "stream",
     "text": [
      "+---+-----+--------------+-------+-----+--------+----+----------+----------+\n",
      "| id|title|published_date|paywall|claps|comments|link|topic_name|topic_type|\n",
      "+---+-----+--------------+-------+-----+--------+----+----------+----------+\n",
      "+---+-----+--------------+-------+-----+--------+----+----------+----------+\n",
      "\n"
     ]
    }
   ],
   "source": [
    "# Define the table to read from\n",
    "table_name = \"medium_articles\"\n",
    "\n",
    "# Read data into a Spark DataFrame\n",
    "df = spark.read \\\n",
    "    .format(\"jdbc\") \\\n",
    "    .option(\"url\", CLICKHOUSE_URL) \\\n",
    "    .option(\"dbtable\", table_name) \\\n",
    "    .option(\"driver\", CLICKHOUSE_DRIVER) \\\n",
    "    .option(\"user\", \"default\") \\\n",
    "    .option(\"password\", \"your_password\") \\\n",
    "    .load()\n",
    "\n",
    "# Show the first few rows\n",
    "df.show()"
   ]
  },
  {
   "cell_type": "code",
   "execution_count": 5,
   "id": "7cad4439-f1c8-4a95-a10b-765b854ac0a5",
   "metadata": {},
   "outputs": [],
   "source": [
    "data = scrape_medium(\"technology/recommended\")"
   ]
  },
  {
   "cell_type": "code",
   "execution_count": 10,
   "id": "b00b3dba-2921-4129-bb41-53c5b76fe51d",
   "metadata": {},
   "outputs": [],
   "source": [
    "df_free = pd.DataFrame([x for x in data if x[\"paywall\"] == False])"
   ]
  },
  {
   "cell_type": "code",
   "execution_count": 14,
   "id": "4e2d20ac-5aab-4c92-a469-6d5c83a14e39",
   "metadata": {},
   "outputs": [
    {
     "data": {
      "text/html": [
       "<div>\n",
       "<style scoped>\n",
       "    .dataframe tbody tr th:only-of-type {\n",
       "        vertical-align: middle;\n",
       "    }\n",
       "\n",
       "    .dataframe tbody tr th {\n",
       "        vertical-align: top;\n",
       "    }\n",
       "\n",
       "    .dataframe thead th {\n",
       "        text-align: right;\n",
       "    }\n",
       "</style>\n",
       "<table border=\"1\" class=\"dataframe\">\n",
       "  <thead>\n",
       "    <tr style=\"text-align: right;\">\n",
       "      <th></th>\n",
       "      <th>title</th>\n",
       "      <th>link</th>\n",
       "      <th>paywall</th>\n",
       "      <th>published_date</th>\n",
       "      <th>claps</th>\n",
       "      <th>comments</th>\n",
       "      <th>topic_name</th>\n",
       "      <th>topic_type</th>\n",
       "      <th>objs</th>\n",
       "    </tr>\n",
       "  </thead>\n",
       "  <tbody>\n",
       "    <tr>\n",
       "      <th>17</th>\n",
       "      <td>Cracking the code of vibe coding</td>\n",
       "      <td>https://medium.com/user-experience-design-1/cr...</td>\n",
       "      <td>False</td>\n",
       "      <td>2025-03-21 00:00:00.000000</td>\n",
       "      <td>1200</td>\n",
       "      <td>26</td>\n",
       "      <td>technology</td>\n",
       "      <td>recommended</td>\n",
       "      <td>[Mar 211.2K26, Mar 21, 1.2K, 26, ]</td>\n",
       "    </tr>\n",
       "    <tr>\n",
       "      <th>1</th>\n",
       "      <td>Acids to Ashes: The crash of Pan Am flight 160</td>\n",
       "      <td>https://medium.com/@admiralcloudberg/acids-to-...</td>\n",
       "      <td>False</td>\n",
       "      <td>2025-03-28 16:29:59.907120</td>\n",
       "      <td>921</td>\n",
       "      <td>15</td>\n",
       "      <td>technology</td>\n",
       "      <td>recommended</td>\n",
       "      <td>[2d ago92115, 921, 15, ]</td>\n",
       "    </tr>\n",
       "    <tr>\n",
       "      <th>12</th>\n",
       "      <td>Everything You’ve Heard About AI In Game Devel...</td>\n",
       "      <td>https://medium.com/@sa-liberty/everything-youv...</td>\n",
       "      <td>False</td>\n",
       "      <td>2025-03-23 00:00:00.000000</td>\n",
       "      <td>746</td>\n",
       "      <td>16</td>\n",
       "      <td>technology</td>\n",
       "      <td>recommended</td>\n",
       "      <td>[Mar 2374616, Mar 23, 746, 16, ]</td>\n",
       "    </tr>\n",
       "    <tr>\n",
       "      <th>6</th>\n",
       "      <td>It’s all fun and games… until your boss starts...</td>\n",
       "      <td>https://medium.com/user-experience-design-1/it...</td>\n",
       "      <td>False</td>\n",
       "      <td>2025-03-27 16:29:59.909872</td>\n",
       "      <td>512</td>\n",
       "      <td>13</td>\n",
       "      <td>technology</td>\n",
       "      <td>recommended</td>\n",
       "      <td>[3d ago51213, 512, 13, ]</td>\n",
       "    </tr>\n",
       "    <tr>\n",
       "      <th>8</th>\n",
       "      <td>We Ruined Our Minds</td>\n",
       "      <td>https://medium.com/@newalbrecht/we-ruined-our-...</td>\n",
       "      <td>False</td>\n",
       "      <td>2025-03-26 16:29:59.910774</td>\n",
       "      <td>510</td>\n",
       "      <td>9</td>\n",
       "      <td>technology</td>\n",
       "      <td>recommended</td>\n",
       "      <td>[4d ago5109, 510, 9, ]</td>\n",
       "    </tr>\n",
       "  </tbody>\n",
       "</table>\n",
       "</div>"
      ],
      "text/plain": [
       "                                                title  \\\n",
       "17                   Cracking the code of vibe coding   \n",
       "1      Acids to Ashes: The crash of Pan Am flight 160   \n",
       "12  Everything You’ve Heard About AI In Game Devel...   \n",
       "6   It’s all fun and games… until your boss starts...   \n",
       "8                                 We Ruined Our Minds   \n",
       "\n",
       "                                                 link  paywall  \\\n",
       "17  https://medium.com/user-experience-design-1/cr...    False   \n",
       "1   https://medium.com/@admiralcloudberg/acids-to-...    False   \n",
       "12  https://medium.com/@sa-liberty/everything-youv...    False   \n",
       "6   https://medium.com/user-experience-design-1/it...    False   \n",
       "8   https://medium.com/@newalbrecht/we-ruined-our-...    False   \n",
       "\n",
       "               published_date  claps  comments  topic_name   topic_type  \\\n",
       "17 2025-03-21 00:00:00.000000   1200        26  technology  recommended   \n",
       "1  2025-03-28 16:29:59.907120    921        15  technology  recommended   \n",
       "12 2025-03-23 00:00:00.000000    746        16  technology  recommended   \n",
       "6  2025-03-27 16:29:59.909872    512        13  technology  recommended   \n",
       "8  2025-03-26 16:29:59.910774    510         9  technology  recommended   \n",
       "\n",
       "                                  objs  \n",
       "17  [Mar 211.2K26, Mar 21, 1.2K, 26, ]  \n",
       "1             [2d ago92115, 921, 15, ]  \n",
       "12    [Mar 2374616, Mar 23, 746, 16, ]  \n",
       "6             [3d ago51213, 512, 13, ]  \n",
       "8               [4d ago5109, 510, 9, ]  "
      ]
     },
     "execution_count": 14,
     "metadata": {},
     "output_type": "execute_result"
    }
   ],
   "source": [
    "df_free.sort_values(by=\"claps\", ascending=False).head()"
   ]
  },
  {
   "cell_type": "code",
   "execution_count": 36,
   "id": "0aa86998-4306-46b1-8ec8-2a5de075ded2",
   "metadata": {},
   "outputs": [],
   "source": [
    "for record in data:\n",
    "    record[\"id\"] = str(uuid.uuid4())"
   ]
  },
  {
   "cell_type": "code",
   "execution_count": 44,
   "id": "0127001b-bcff-4aab-9c04-6c0e384026df",
   "metadata": {},
   "outputs": [],
   "source": [
    "# Convert JSON data to a DataFrame\n",
    "medium_articles_schema = StructType([\n",
    "    StructField(\"id\", StringType(), False),  # UUID stored as string in Spark\n",
    "    StructField(\"title\", StringType(), False),\n",
    "    StructField(\"published_date\", TimestampType(), True),\n",
    "    StructField(\"paywall\", BooleanType(), True),\n",
    "    StructField(\"claps\", IntegerType(), True),\n",
    "    StructField(\"comments\", IntegerType(), True),\n",
    "    StructField(\"link\", StringType(), True),\n",
    "    StructField(\"topic_name\", StringType(), True),\n",
    "    StructField(\"topic_type\", StringType(), True),\n",
    "    StructField(\"version\", IntegerType(), True)\n",
    "])\n",
    "\n",
    "df = spark.createDataFrame(data, schema=medium_articles_schema).withColumn(\"id\", col(\"id\").cast(\"string\"))"
   ]
  },
  {
   "cell_type": "code",
   "execution_count": 45,
   "id": "6bc3092c-cf38-4e06-b10d-894f947e4198",
   "metadata": {},
   "outputs": [
    {
     "name": "stdout",
     "output_type": "stream",
     "text": [
      "+--------------------+--------------------+--------------------+-------+-----+--------+--------------------+----------+-----------+\n",
      "|                  id|               title|      published_date|paywall|claps|comments|                link|topic_name| topic_type|\n",
      "+--------------------+--------------------+--------------------+-------+-----+--------+--------------------+----------+-----------+\n",
      "|7dfe6695-600a-424...|Google Hasn’t Fig...| 2025-03-21 00:00:00|   true|   83|       2|https://medium.co...|technology|recommended|\n",
      "|a8fda7d3-62ef-4ed...|Which Countries H...|2025-03-28 16:29:...|   true|   61|       2|https://medium.co...|technology|recommended|\n",
      "|7f2ee5d1-43ec-422...|LaMBDA and the Lo...|2025-03-28 16:29:...|  false|  103|       2|https://medium.co...|technology|recommended|\n",
      "|0d58d7d9-fa11-46f...|Acids to Ashes: T...|2025-03-28 16:29:...|  false|  921|      15|https://medium.co...|technology|recommended|\n",
      "|2bb5af55-eabf-40f...|Is this the death...|2025-03-28 16:29:...|   true|  231|       6|https://medium.co...|technology|recommended|\n",
      "|0dc99fdb-bb5e-47d...|“Hello, I’m a Mac...|2025-03-26 16:29:...|   true|  158|       0|https://medium.co...|technology|recommended|\n",
      "|06246503-b0fd-44e...|Training AI on in...|2025-03-27 16:29:...|   true|   71|       3|https://medium.co...|technology|recommended|\n",
      "|eaaa418f-3564-4cb...|Organized for Ant...|2025-03-27 16:29:...|  false|   40|       2|https://medium.co...|technology|recommended|\n",
      "|96e66ae7-43c4-488...|How AI is changin...| 2025-03-22 00:00:00|   true|  203|       9|https://medium.co...|technology|recommended|\n",
      "|684a63be-ae5e-4f9...|Modern computers ...| 2025-03-18 00:00:00|   true|  168|      11|https://medium.co...|technology|recommended|\n",
      "|187034bb-37fb-4a4...|Does This Android...|2025-03-28 16:29:...|   true|  114|       1|https://medium.co...|technology|recommended|\n",
      "|a9df0c20-d681-4fa...|Signal is not the...|2025-03-28 16:29:...|  false|  263|       4|https://medium.co...|technology|recommended|\n",
      "|c9771be4-fa8f-43c...|Why Empathy Matte...|2025-03-26 16:29:...|  false|  111|       3|https://medium.co...|technology|recommended|\n",
      "|81f914c1-ac85-470...|Would an AI Emula...|2025-03-27 16:29:...|  false|   85|       5|https://medium.co...|technology|recommended|\n",
      "|d30ed206-16d7-4d4...|The World’s Stron...|2025-03-27 16:29:...|   true|  640|       9|https://medium.co...|technology|recommended|\n",
      "|64681096-52a4-41a...|Deep-sea Mining C...|2025-03-27 16:29:...|   true|  183|       3|https://medium.co...|technology|recommended|\n",
      "|a121e1c5-d41e-423...|Twitter Was a Mes...|2025-03-27 16:29:...|   true| 2100|      40|https://medium.co...|technology|recommended|\n",
      "|5553dc42-ea9d-4c5...|The Future is Mor...|2025-03-27 16:29:...|   true| 1600|      47|https://medium.co...|technology|recommended|\n",
      "|3c5dcf0f-d05a-4ae...|It’s all fun and ...|2025-03-27 16:29:...|  false|  512|      13|https://medium.co...|technology|recommended|\n",
      "|18e967f3-18ab-4c0...|Why I Don’t Recom...|2025-03-27 16:29:...|   true|  225|      15|https://medium.co...|technology|recommended|\n",
      "+--------------------+--------------------+--------------------+-------+-----+--------+--------------------+----------+-----------+\n",
      "only showing top 20 rows\n",
      "\n"
     ]
    }
   ],
   "source": [
    "df.show()"
   ]
  },
  {
   "cell_type": "code",
   "execution_count": 46,
   "id": "349f3df3-804a-42ab-9cda-23d971503a7f",
   "metadata": {},
   "outputs": [],
   "source": [
    "# Write DataFrame to ClickHouse\n",
    "df.write \\\n",
    "    .format(\"jdbc\") \\\n",
    "    .option(\"url\", CLICKHOUSE_URL) \\\n",
    "    .option(\"dbtable\", \"medium_articles\") \\\n",
    "    .option(\"user\", \"default\") \\\n",
    "    .option(\"password\", \"your_password\") \\\n",
    "    .option(\"driver\", \"com.clickhouse.jdbc.ClickHouseDriver\") \\\n",
    "    .mode(\"append\") \\\n",
    "    .save()"
   ]
  }
 ],
 "metadata": {
  "kernelspec": {
   "display_name": "Python 3 (ipykernel)",
   "language": "python",
   "name": "python3"
  },
  "language_info": {
   "codemirror_mode": {
    "name": "ipython",
    "version": 3
   },
   "file_extension": ".py",
   "mimetype": "text/x-python",
   "name": "python",
   "nbconvert_exporter": "python",
   "pygments_lexer": "ipython3",
   "version": "3.11.6"
  }
 },
 "nbformat": 4,
 "nbformat_minor": 5
}
