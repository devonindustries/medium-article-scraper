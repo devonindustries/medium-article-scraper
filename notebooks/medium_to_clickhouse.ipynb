{
 "cells": [
  {
   "cell_type": "code",
   "execution_count": 1,
   "metadata": {},
   "outputs": [],
   "source": [
    "import os\n",
    "import sys\n",
    "\n",
    "# Get the absolute path of the backend folder\n",
    "backend_path = os.path.abspath(os.path.join(os.getcwd(), \"..\", \"backend\"))\n",
    "\n",
    "# Add backend to sys.path\n",
    "if backend_path not in sys.path:\n",
    "    sys.path.append(backend_path)"
   ]
  },
  {
   "cell_type": "code",
   "execution_count": 2,
   "metadata": {},
   "outputs": [],
   "source": [
    "# !pip install playwright\n",
    "# !playwright install\n",
    "# !sudo playwright install-deps\n",
    "# !pip install dotenv\n",
    "# !pip install clickhouse_driver"
   ]
  },
  {
   "cell_type": "code",
   "execution_count": 3,
   "metadata": {},
   "outputs": [],
   "source": [
    "import nest_asyncio\n",
    "\n",
    "import pandas as pd\n",
    "\n",
    "from scripts.scraper_handler import ScraperHandler\n",
    "from scripts.data_handler import DataHandler\n",
    "\n",
    "nest_asyncio.apply()"
   ]
  },
  {
   "cell_type": "code",
   "execution_count": 4,
   "metadata": {},
   "outputs": [],
   "source": [
    "dh = DataHandler()\n",
    "sh = ScraperHandler(dh)"
   ]
  },
  {
   "cell_type": "code",
   "execution_count": 5,
   "metadata": {},
   "outputs": [
    {
     "name": "stdout",
     "output_type": "stream",
     "text": [
      "Scraping tag: data-science/recommended\n",
      "Scraped 30 articles\n",
      "Scraped 40 articles\n",
      "Scraped 50 articles\n",
      "Scraped 60 articles\n",
      "Scraped 70 articles\n",
      "Scraped 80 articles\n",
      "Scraped 90 articles\n",
      "Scraped 100 articles\n",
      "Scraped 110 articles\n",
      "Scraped 120 articles\n"
     ]
    }
   ],
   "source": [
    "articles = []\n",
    "async for article in sh.scrape_medium(\"data-science/recommended\", 10):\n",
    "    articles.append(article)"
   ]
  },
  {
   "cell_type": "code",
   "execution_count": 6,
   "metadata": {},
   "outputs": [],
   "source": [
    "df = pd.DataFrame(articles[-1])"
   ]
  },
  {
   "cell_type": "code",
   "execution_count": 7,
   "metadata": {},
   "outputs": [
    {
     "data": {
      "text/html": [
       "<div>\n",
       "<style scoped>\n",
       "    .dataframe tbody tr th:only-of-type {\n",
       "        vertical-align: middle;\n",
       "    }\n",
       "\n",
       "    .dataframe tbody tr th {\n",
       "        vertical-align: top;\n",
       "    }\n",
       "\n",
       "    .dataframe thead th {\n",
       "        text-align: right;\n",
       "    }\n",
       "</style>\n",
       "<table border=\"1\" class=\"dataframe\">\n",
       "  <thead>\n",
       "    <tr style=\"text-align: right;\">\n",
       "      <th></th>\n",
       "      <th>title</th>\n",
       "      <th>link</th>\n",
       "      <th>paywall</th>\n",
       "      <th>published_date</th>\n",
       "      <th>claps</th>\n",
       "      <th>comments</th>\n",
       "      <th>topic_name</th>\n",
       "      <th>topic_type</th>\n",
       "      <th>tag</th>\n",
       "      <th>version</th>\n",
       "      <th>id</th>\n",
       "    </tr>\n",
       "  </thead>\n",
       "  <tbody>\n",
       "    <tr>\n",
       "      <th>0</th>\n",
       "      <td>Next-gen retrieval function with learned simil...</td>\n",
       "      <td>https://medium.com/data-science-collective/nex...</td>\n",
       "      <td>True</td>\n",
       "      <td>2025-04-18 15:38:13.464848</td>\n",
       "      <td>41</td>\n",
       "      <td>2</td>\n",
       "      <td>data-science</td>\n",
       "      <td>recommended</td>\n",
       "      <td>data-science/recommended</td>\n",
       "      <td>1745163493</td>\n",
       "      <td>d4818731-0742-4763-95cb-9e5d945cce6c</td>\n",
       "    </tr>\n",
       "    <tr>\n",
       "      <th>1</th>\n",
       "      <td>The Definitive LLM-as-a-Judge Guide for Scalab...</td>\n",
       "      <td>https://medium.com/@jeffreyip54/the-definitive...</td>\n",
       "      <td>False</td>\n",
       "      <td>2025-04-16 15:38:13.465049</td>\n",
       "      <td>31</td>\n",
       "      <td>0</td>\n",
       "      <td>data-science</td>\n",
       "      <td>recommended</td>\n",
       "      <td>data-science/recommended</td>\n",
       "      <td>1745163493</td>\n",
       "      <td>b41b3d3e-0869-4317-a5e8-9301ed204ee8</td>\n",
       "    </tr>\n",
       "    <tr>\n",
       "      <th>2</th>\n",
       "      <td>Experimental Design in the AI Era</td>\n",
       "      <td>https://medium.com/eni-digitalks/experimental-...</td>\n",
       "      <td>False</td>\n",
       "      <td>2025-03-26 00:00:00.000000</td>\n",
       "      <td>67</td>\n",
       "      <td>0</td>\n",
       "      <td>data-science</td>\n",
       "      <td>recommended</td>\n",
       "      <td>data-science/recommended</td>\n",
       "      <td>1745163493</td>\n",
       "      <td>b7d94374-bb0a-4f2f-a3c5-e85a3593a286</td>\n",
       "    </tr>\n",
       "    <tr>\n",
       "      <th>3</th>\n",
       "      <td>Do not underestimate Linear Regression</td>\n",
       "      <td>https://medium.com/data-and-beyond/do-not-unde...</td>\n",
       "      <td>True</td>\n",
       "      <td>2025-04-16 15:38:13.465448</td>\n",
       "      <td>208</td>\n",
       "      <td>3</td>\n",
       "      <td>data-science</td>\n",
       "      <td>recommended</td>\n",
       "      <td>data-science/recommended</td>\n",
       "      <td>1745163493</td>\n",
       "      <td>7b40b6f2-05a9-44f1-8075-f3c088eb4655</td>\n",
       "    </tr>\n",
       "    <tr>\n",
       "      <th>4</th>\n",
       "      <td>LLMs sucked at understanding images before thi...</td>\n",
       "      <td>https://medium.com/ai-advances/llms-sucked-at-...</td>\n",
       "      <td>True</td>\n",
       "      <td>2025-04-18 15:38:13.465618</td>\n",
       "      <td>228</td>\n",
       "      <td>4</td>\n",
       "      <td>data-science</td>\n",
       "      <td>recommended</td>\n",
       "      <td>data-science/recommended</td>\n",
       "      <td>1745163493</td>\n",
       "      <td>63dd9750-0328-4939-9838-b6a9e6e379aa</td>\n",
       "    </tr>\n",
       "  </tbody>\n",
       "</table>\n",
       "</div>"
      ],
      "text/plain": [
       "                                               title  \\\n",
       "0  Next-gen retrieval function with learned simil...   \n",
       "1  The Definitive LLM-as-a-Judge Guide for Scalab...   \n",
       "2                  Experimental Design in the AI Era   \n",
       "3             Do not underestimate Linear Regression   \n",
       "4  LLMs sucked at understanding images before thi...   \n",
       "\n",
       "                                                link  paywall  \\\n",
       "0  https://medium.com/data-science-collective/nex...     True   \n",
       "1  https://medium.com/@jeffreyip54/the-definitive...    False   \n",
       "2  https://medium.com/eni-digitalks/experimental-...    False   \n",
       "3  https://medium.com/data-and-beyond/do-not-unde...     True   \n",
       "4  https://medium.com/ai-advances/llms-sucked-at-...     True   \n",
       "\n",
       "              published_date  claps  comments    topic_name   topic_type  \\\n",
       "0 2025-04-18 15:38:13.464848     41         2  data-science  recommended   \n",
       "1 2025-04-16 15:38:13.465049     31         0  data-science  recommended   \n",
       "2 2025-03-26 00:00:00.000000     67         0  data-science  recommended   \n",
       "3 2025-04-16 15:38:13.465448    208         3  data-science  recommended   \n",
       "4 2025-04-18 15:38:13.465618    228         4  data-science  recommended   \n",
       "\n",
       "                        tag     version                                    id  \n",
       "0  data-science/recommended  1745163493  d4818731-0742-4763-95cb-9e5d945cce6c  \n",
       "1  data-science/recommended  1745163493  b41b3d3e-0869-4317-a5e8-9301ed204ee8  \n",
       "2  data-science/recommended  1745163493  b7d94374-bb0a-4f2f-a3c5-e85a3593a286  \n",
       "3  data-science/recommended  1745163493  7b40b6f2-05a9-44f1-8075-f3c088eb4655  \n",
       "4  data-science/recommended  1745163493  63dd9750-0328-4939-9838-b6a9e6e379aa  "
      ]
     },
     "execution_count": 7,
     "metadata": {},
     "output_type": "execute_result"
    }
   ],
   "source": [
    "df.head()"
   ]
  },
  {
   "cell_type": "code",
   "execution_count": null,
   "metadata": {},
   "outputs": [],
   "source": []
  }
 ],
 "metadata": {
  "kernelspec": {
   "display_name": "Python 3 (ipykernel)",
   "language": "python",
   "name": "python3"
  },
  "language_info": {
   "codemirror_mode": {
    "name": "ipython",
    "version": 3
   },
   "file_extension": ".py",
   "mimetype": "text/x-python",
   "name": "python",
   "nbconvert_exporter": "python",
   "pygments_lexer": "ipython3",
   "version": "3.11.6"
  }
 },
 "nbformat": 4,
 "nbformat_minor": 4
}
